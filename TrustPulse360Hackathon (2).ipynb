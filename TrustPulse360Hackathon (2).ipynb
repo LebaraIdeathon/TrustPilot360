{
 "cells": [
  {
   "cell_type": "markdown",
   "metadata": {
    "application/vnd.databricks.v1+cell": {
     "cellMetadata": {},
     "inputWidgets": {},
     "nuid": "f781bd88-52ae-4808-8310-0ecb27d4120a",
     "showTitle": false,
     "tableResultSettingsMap": {},
     "title": ""
    }
   },
   "source": [
    "# RAW DATA\n"
   ]
  },
  {
   "cell_type": "code",
   "execution_count": 0,
   "metadata": {
    "application/vnd.databricks.v1+cell": {
     "cellMetadata": {},
     "inputWidgets": {},
     "nuid": "2b99c593-3410-4795-a757-be653008e847",
     "showTitle": false,
     "tableResultSettingsMap": {},
     "title": ""
    }
   },
   "outputs": [],
   "source": [
    "# Read the Delta table from the specified storage location\n",
    "delta_table_path = \"/mnt/prod_rawdata/hackathon\"\n",
    "review_df = spark.read.format(\"delta\").load(delta_table_path)\n",
    "\n",
    "# Display the DataFrame\n",
    "display(review_df)"
   ]
  },
  {
   "cell_type": "markdown",
   "metadata": {
    "application/vnd.databricks.v1+cell": {
     "cellMetadata": {},
     "inputWidgets": {},
     "nuid": "70fad0f2-b9be-498b-bc96-bb6a39466947",
     "showTitle": false,
     "tableResultSettingsMap": {},
     "title": ""
    }
   },
   "source": [
    "# INITIAL TRANSFORMATIONS AND LINKAGE "
   ]
  },
  {
   "cell_type": "code",
   "execution_count": 0,
   "metadata": {
    "application/vnd.databricks.v1+cell": {
     "cellMetadata": {
      "byteLimit": 2048000,
      "implicitDf": true,
      "rowLimit": 10000
     },
     "inputWidgets": {},
     "nuid": "f64385ef-4c75-46f1-8ca5-9f38069f5351",
     "showTitle": false,
     "tableResultSettingsMap": {},
     "title": ""
    },
    "jupyter": {
     "outputs_hidden": true
    }
   },
   "outputs": [],
   "source": [
    "%sql\n",
    "SELECT * FROM default.trustpilot_review_data"
   ]
  },
  {
   "cell_type": "markdown",
   "metadata": {
    "application/vnd.databricks.v1+cell": {
     "cellMetadata": {},
     "inputWidgets": {},
     "nuid": "cf7a0b6c-3b06-45d9-9d0a-b4985a2f5d86",
     "showTitle": false,
     "tableResultSettingsMap": {},
     "title": ""
    }
   },
   "source": [
    "# SENTIMENTAL ANALYSIS"
   ]
  },
  {
   "cell_type": "markdown",
   "metadata": {
    "application/vnd.databricks.v1+cell": {
     "cellMetadata": {},
     "inputWidgets": {},
     "nuid": "259da887-ec56-4ffd-9371-a370e7d7ea6e",
     "showTitle": false,
     "tableResultSettingsMap": {},
     "title": ""
    }
   },
   "source": [
    "## Hugging Face PreTrained model"
   ]
  },
  {
   "cell_type": "code",
   "execution_count": 0,
   "metadata": {
    "application/vnd.databricks.v1+cell": {
     "cellMetadata": {},
     "inputWidgets": {},
     "nuid": "0412b527-fe01-467c-9d44-ff4d13c64042",
     "showTitle": false,
     "tableResultSettingsMap": {},
     "title": ""
    }
   },
   "outputs": [],
   "source": [
    "# Import hugging face libraries and pandas\n",
    "from transformers import pipeline\n",
    "import pandas as pd\n",
    "#Convert the DataFrame to a pandas DataFrame\n",
    "review_df = spark.sql(\"SELECT * FROM default.trustpilot_review_data where length(TRANSLATION)<=512\").toPandas()"
   ]
  },
  {
   "cell_type": "markdown",
   "metadata": {
    "application/vnd.databricks.v1+cell": {
     "cellMetadata": {},
     "inputWidgets": {},
     "nuid": "d53b0476-5985-4b67-b3ff-36b4c160b22c",
     "showTitle": false,
     "tableResultSettingsMap": {},
     "title": ""
    }
   },
   "source": [
    "## Feed data to analyzer \n"
   ]
  },
  {
   "cell_type": "code",
   "execution_count": 0,
   "metadata": {
    "application/vnd.databricks.v1+cell": {
     "cellMetadata": {},
     "inputWidgets": {},
     "nuid": "e9f0ad09-a792-4102-9c6b-1b621549835b",
     "showTitle": false,
     "tableResultSettingsMap": {},
     "title": ""
    }
   },
   "outputs": [],
   "source": [
    "def analyze_sentiment(review):\n",
    "    result = sentiment_analyzer(review)[0]\n",
    "    return pd.Series([result['label'], result['score']])\n",
    "\n",
    "\n",
    "review_df[['sentiment', 'score']] = review_df['TRANSLATION'].apply(analyze_sentiment)\n",
    "review_spark_df = spark.createDataFrame(review_df)\n"
   ]
  },
  {
   "cell_type": "markdown",
   "metadata": {
    "application/vnd.databricks.v1+cell": {
     "cellMetadata": {},
     "inputWidgets": {},
     "nuid": "7345195c-830a-41c3-b4a5-c5a167ab0ec6",
     "showTitle": false,
     "tableResultSettingsMap": {},
     "title": ""
    }
   },
   "source": [
    "## Save data to table"
   ]
  },
  {
   "cell_type": "code",
   "execution_count": 0,
   "metadata": {
    "application/vnd.databricks.v1+cell": {
     "cellMetadata": {},
     "inputWidgets": {},
     "nuid": "684b2631-e947-4d1f-b64c-f22a1fbbf263",
     "showTitle": false,
     "tableResultSettingsMap": {},
     "title": ""
    }
   },
   "outputs": [],
   "source": [
    " review_spark_df.write.mode('overwrite').saveAsTable('default.trustpilot_review_data_sentiment')"
   ]
  },
  {
   "cell_type": "markdown",
   "metadata": {
    "application/vnd.databricks.v1+cell": {
     "cellMetadata": {},
     "inputWidgets": {},
     "nuid": "6d4ea5c2-a843-4cd8-829d-cfeb6f52aada",
     "showTitle": false,
     "tableResultSettingsMap": {},
     "title": ""
    }
   },
   "source": [
    "## REFINE SENTIMENTS TO ALIGN WITH LEBARA\n"
   ]
  },
  {
   "cell_type": "markdown",
   "metadata": {
    "application/vnd.databricks.v1+cell": {
     "cellMetadata": {},
     "inputWidgets": {},
     "nuid": "adc9449a-8038-4c86-96c0-19228ad09d9c",
     "showTitle": false,
     "tableResultSettingsMap": {},
     "title": ""
    }
   },
   "source": [
    "### Normalize Sentiment"
   ]
  },
  {
   "cell_type": "code",
   "execution_count": 0,
   "metadata": {
    "application/vnd.databricks.v1+cell": {
     "cellMetadata": {},
     "inputWidgets": {},
     "nuid": "974b9216-8ebc-4aab-95e9-5e5f64b9922e",
     "showTitle": false,
     "tableResultSettingsMap": {},
     "title": ""
    }
   },
   "outputs": [],
   "source": [
    "%sql\n",
    "update default.trustpilot_review_data_sentiment \n",
    "set normalized_sentiment = 'NEGATIVE'\n",
    "where sentiment = 'POSITIVE'\n",
    "and stars in(2 ,1 )\n",
    "and TRANSLATION = 'n/a'"
   ]
  },
  {
   "cell_type": "code",
   "execution_count": 0,
   "metadata": {
    "application/vnd.databricks.v1+cell": {
     "cellMetadata": {},
     "inputWidgets": {},
     "nuid": "c3c4fa33-fb36-4163-950b-bec5a8d38f55",
     "showTitle": false,
     "tableResultSettingsMap": {},
     "title": ""
    }
   },
   "outputs": [],
   "source": [
    "%sql \n",
    "update default.trustpilot_review_data_sentiment \n",
    "set normalized_sentiment = 'NEUTRAL'\n",
    "where 1 = 1 --sentiment = 'POSITIVE'\n",
    "and stars = 3 \n",
    "and TRANSLATION = 'n/a'"
   ]
  },
  {
   "cell_type": "code",
   "execution_count": 0,
   "metadata": {
    "application/vnd.databricks.v1+cell": {
     "cellMetadata": {},
     "inputWidgets": {},
     "nuid": "b84b2562-0e1b-4e56-b4ca-1ff31fbf2dcb",
     "showTitle": false,
     "tableResultSettingsMap": {},
     "title": ""
    }
   },
   "outputs": [],
   "source": [
    "%sql \n",
    "-- negative star review preceeds the positive sentiment in general \n",
    "update default.trustpilot_review_data_sentiment \n",
    "set normalized_sentiment = 'NEGATIVE'\n",
    "where sentiment = 'POSITIVE'\n",
    "and stars = 1 "
   ]
  },
  {
   "cell_type": "code",
   "execution_count": 0,
   "metadata": {
    "application/vnd.databricks.v1+cell": {
     "cellMetadata": {},
     "inputWidgets": {},
     "nuid": "1d32f322-10b6-4532-8706-75865be9a898",
     "showTitle": false,
     "tableResultSettingsMap": {},
     "title": ""
    }
   },
   "outputs": [],
   "source": [
    "%sql \n",
    "-- for leabar cheap is good \n",
    "update default.trustpilot_review_data_sentiment \n",
    "set normalized_sentiment = 'POSITIVE'\n",
    "where sentiment = 'NEGATIVE'\n",
    "and stars in ( 4 , 5)\n",
    "and translation like '%cheap%'"
   ]
  },
  {
   "cell_type": "code",
   "execution_count": 0,
   "metadata": {
    "application/vnd.databricks.v1+cell": {
     "cellMetadata": {},
     "inputWidgets": {},
     "nuid": "18424548-b5ff-4afb-b209-cf81bc0fd4e4",
     "showTitle": false,
     "tableResultSettingsMap": {},
     "title": ""
    }
   },
   "outputs": [],
   "source": [
    "%sql \n",
    "update default.trustpilot_review_data_sentiment \n",
    "set normalized_sentiment = 'POSITIVE'\n",
    "where sentiment = 'NEGATIVE'\n",
    "and stars in ( 4 , 5)\n",
    "and translation like '%good%'\n",
    "and NORMALIZED_SENTIMENT is null "
   ]
  },
  {
   "cell_type": "code",
   "execution_count": 0,
   "metadata": {
    "application/vnd.databricks.v1+cell": {
     "cellMetadata": {},
     "inputWidgets": {},
     "nuid": "7c63e4ed-04a9-4c38-b80c-f3c05c576f77",
     "showTitle": false,
     "tableResultSettingsMap": {},
     "title": ""
    }
   },
   "outputs": [],
   "source": [
    "%sql \n",
    "update default.trustpilot_review_data_sentiment \n",
    "set normalized_sentiment = 'POSITIVE'\n",
    "where sentiment = 'NEGATIVE'\n",
    "and stars in ( 4 , 5)\n",
    "and translation like '%good%'\n",
    "and NORMALIZED_SENTIMENT is null "
   ]
  },
  {
   "cell_type": "code",
   "execution_count": 0,
   "metadata": {
    "application/vnd.databricks.v1+cell": {
     "cellMetadata": {},
     "inputWidgets": {},
     "nuid": "83ac9fdd-8603-459f-aa03-2e72dd398eb4",
     "showTitle": false,
     "tableResultSettingsMap": {},
     "title": ""
    }
   },
   "outputs": [],
   "source": [
    "\n",
    "%sql \n",
    "update default.trustpilot_review_data_sentiment \n",
    "set normalized_sentiment = 'NEGATIVE'\n",
    "where sentiment = 'POSITIVE'\n",
    "and stars in(2 ,1 )\n",
    "and TRANSLATION = 'n/a'"
   ]
  },
  {
   "cell_type": "markdown",
   "metadata": {
    "application/vnd.databricks.v1+cell": {
     "cellMetadata": {},
     "inputWidgets": {},
     "nuid": "006cd6f3-238e-4df3-92ce-3b4e98798832",
     "showTitle": false,
     "tableResultSettingsMap": {},
     "title": ""
    }
   },
   "source": [
    "#DATA ENRICHMENT"
   ]
  },
  {
   "cell_type": "markdown",
   "metadata": {
    "application/vnd.databricks.v1+cell": {
     "cellMetadata": {},
     "inputWidgets": {},
     "nuid": "d42e1052-fbbd-4233-b9be-b9b25ac3a5a2",
     "showTitle": false,
     "tableResultSettingsMap": {},
     "title": ""
    }
   },
   "source": [
    "-  - Add Churn Score \n",
    "-  - Average Customer Value \n",
    "-  - Pre paid vs Post paid \n",
    "-  - Tenure \n",
    "-  - Customer Type "
   ]
  },
  {
   "cell_type": "code",
   "execution_count": 0,
   "metadata": {
    "application/vnd.databricks.v1+cell": {
     "cellMetadata": {},
     "inputWidgets": {},
     "nuid": "76c99e43-08f7-44be-886a-cc4842856763",
     "showTitle": false,
     "tableResultSettingsMap": {},
     "title": ""
    }
   },
   "outputs": [],
   "source": [
    "review_df = spark.sql(\"select * from default.trustpilot_review_data_sentiment\")\n",
    "review_df = review_df.join(churn_df_final, 'SUBSCRIBER_SR_KEY', 'left').select(review_df[\"*\"], churn_df_final[\"PREDICTION_SCORE\"].alias('CHURN_PREDICTION_SCORE'))\n",
    "review_df = review_df.withColumn('PREDICTION_SCORE', F.coalesce(F.col('CHURN_PREDICTION_SCORE'), F.col('PREDICTION_SCORE')))\n",
    "review_df = review_df.drop('CHURN_PREDICTION_SCORE')\n",
    "review_df = review_df.withColumn(\"CUSTOMER_TYPE\",F.when(F.col('LAST_CUSTOMER_TYPE_SR_KEY')==1, F.lit(\"POSTPAID\")).when(F.col('LAST_CUSTOMER_TYPE_SR_KEY').isin([2,4,5]), F.lit(\"PREPAID\")).otherwise(F.lit(\"UNKNOWN\")))\n",
    "review_df = review_df.withColumn(\"NORMALIZED_SENTIMENT\", F.lit(None))\n",
    "review_df.write.mode('overwrite').saveAsTable('default.trustpilot_review_data_sentiment')"
   ]
  },
  {
   "cell_type": "markdown",
   "metadata": {
    "application/vnd.databricks.v1+cell": {
     "cellMetadata": {},
     "inputWidgets": {},
     "nuid": "dae4d020-8454-4665-b360-f8301b93a793",
     "showTitle": false,
     "tableResultSettingsMap": {},
     "title": ""
    }
   },
   "source": [
    "# KEYWORD EXTRACTION\n"
   ]
  },
  {
   "cell_type": "code",
   "execution_count": 0,
   "metadata": {
    "application/vnd.databricks.v1+cell": {
     "cellMetadata": {},
     "inputWidgets": {},
     "nuid": "2601037c-02f0-4cf7-9a73-da91fe11c5e0",
     "showTitle": false,
     "tableResultSettingsMap": {},
     "title": ""
    }
   },
   "outputs": [],
   "source": [
    "# install libraries\n",
    "%pip install keybert"
   ]
  },
  {
   "cell_type": "markdown",
   "metadata": {
    "application/vnd.databricks.v1+cell": {
     "cellMetadata": {},
     "inputWidgets": {},
     "nuid": "bb9941c7-fa0e-4546-8684-8cc678bad4c5",
     "showTitle": false,
     "tableResultSettingsMap": {},
     "title": ""
    }
   },
   "source": [
    "### Function to extract keywords"
   ]
  },
  {
   "cell_type": "code",
   "execution_count": 0,
   "metadata": {
    "application/vnd.databricks.v1+cell": {
     "cellMetadata": {},
     "inputWidgets": {},
     "nuid": "1a8eba5b-3fa1-4339-abdf-5b31cce23765",
     "showTitle": false,
     "tableResultSettingsMap": {},
     "title": ""
    }
   },
   "outputs": [],
   "source": [
    "from keybert import KeyBERT\n",
    "from sentence_transformers import SentenceTransformer\n",
    "\n",
    "sentence_model = SentenceTransformer(\"all-MiniLM-L6-v2\")\n",
    "kw_model = KeyBERT(model=sentence_model)"
   ]
  },
  {
   "cell_type": "code",
   "execution_count": 0,
   "metadata": {
    "application/vnd.databricks.v1+cell": {
     "cellMetadata": {},
     "inputWidgets": {},
     "nuid": "64cc9d10-9ea8-4d5c-8a4c-c9d5832a8fd1",
     "showTitle": false,
     "tableResultSettingsMap": {},
     "title": ""
    }
   },
   "outputs": [],
   "source": [
    "def extract_keyword(review):\n",
    "    keywords = kw_model.extract_keywords(review, keyphrase_ngram_range=(3, 3), stop_words='english',\n",
    "                              use_mmr=True, diversity=0.2)\n",
    "    \n",
    "    try:\n",
    "      val = pd.Series([list(keywords[0])[0], list(keywords[1])[0], list(keywords[2])[0], list(keywords[3])[0], list(keywords[4])[0]])\n",
    "      return val\n",
    "    except:\n",
    "      return pd.Series([None, None, None, None, None])"
   ]
  },
  {
   "cell_type": "code",
   "execution_count": 0,
   "metadata": {
    "application/vnd.databricks.v1+cell": {
     "cellMetadata": {},
     "inputWidgets": {},
     "nuid": "419e6803-d5e7-4481-a95d-d7b4e4bcb71a",
     "showTitle": false,
     "tableResultSettingsMap": {},
     "title": ""
    }
   },
   "outputs": [],
   "source": [
    "#Convert table  to pandas dataframe\n",
    "review_df = spark.sql('select REVIEW_ID, TRANSLATION from trustpilot_review_data_sentiment').toPandas()"
   ]
  },
  {
   "cell_type": "code",
   "execution_count": 0,
   "metadata": {
    "application/vnd.databricks.v1+cell": {
     "cellMetadata": {},
     "inputWidgets": {},
     "nuid": "6643fdbd-6940-40c6-9afc-00fc379785d8",
     "showTitle": false,
     "tableResultSettingsMap": {},
     "title": ""
    }
   },
   "outputs": [],
   "source": [
    "review_df[['KEYWORD_1', 'KEYWORD_2', 'KEYWORD_3', 'KEYWORD_4', 'KEYWORD_5']] = review_df['TRANSLATION'].apply(extract_keyword)\n",
    "review_spark_df = spark.createDataFrame(review_df)\n",
    "review_spark_df.write.mode('overwrite').saveAsTable('default.trustpilot_review_data_with_keyword')"
   ]
  },
  {
   "cell_type": "code",
   "execution_count": 0,
   "metadata": {
    "application/vnd.databricks.v1+cell": {
     "cellMetadata": {},
     "inputWidgets": {},
     "nuid": "d9d0ba08-033b-4787-a571-0350671bfe9c",
     "showTitle": false,
     "tableResultSettingsMap": {},
     "title": ""
    }
   },
   "outputs": [],
   "source": [
    "from pyspark.sql import functions as F\n",
    "keyword_df = spark.table('trustpilot_review_data_with_keyword')\n",
    "keyword_df = keyword_df.filter(F.col('KEYWORD_1').isNotNull())\n",
    "review_df = spark.table('trustpilot_review_data_sentiment')\n",
    "keyword_df = keyword_df.selectExpr(\"REVIEW_ID\", \"TRANSLATION\",\"stack(5, 'KEYWORD_1', KEYWORD_1, 'KEYWORD_2', KEYWORD_2, 'KEYWORD_3', KEYWORD_3, 'KEYWORD_4', KEYWORD_4, 'KEYWORD_5', KEYWORD_5) as (KEYWORD,value)\")\n",
    "unpivoted_keyword_df = keyword_df.drop('KEYWORD').withColumnRenamed('value','KEYWORD')\n",
    "unpivoted_keyword_final_df = unpivoted_keyword_df.join(review_df, 'REVIEW_ID').select(unpivoted_keyword_df['REVIEW_ID'], review_df['COUNTRY_CODE'], review_df[\"STARS\"],  unpivoted_keyword_df['KEYWORD'], review_df['EXPERIENCED_AT'])\n",
    "unpivoted_keyword_final_df.write.mode('overwrite').saveAsTable('default.trustpilot_review_data_stars_with_keyword')"
   ]
  },
  {
   "cell_type": "markdown",
   "metadata": {
    "application/vnd.databricks.v1+cell": {
     "cellMetadata": {},
     "inputWidgets": {},
     "nuid": "9116e1a5-211f-4f27-8ee0-04b86e9c5a70",
     "showTitle": false,
     "tableResultSettingsMap": {},
     "title": ""
    }
   },
   "source": [
    "## Final Keyword extracted data"
   ]
  },
  {
   "cell_type": "code",
   "execution_count": 0,
   "metadata": {
    "application/vnd.databricks.v1+cell": {
     "cellMetadata": {
      "byteLimit": 2048000,
      "implicitDf": true,
      "rowLimit": 10000
     },
     "inputWidgets": {},
     "nuid": "f88382e9-fbbd-436c-b044-0fd42259e1c0",
     "showTitle": false,
     "tableResultSettingsMap": {},
     "title": ""
    },
    "jupyter": {
     "outputs_hidden": true
    }
   },
   "outputs": [],
   "source": [
    "%sql\n",
    "select * from trustpilot_review_data_stars_with_keyword--where STARS=1 group by KEYWORD"
   ]
  }
 ],
 "metadata": {
  "application/vnd.databricks.v1+notebook": {
   "dashboards": [],
   "environmentMetadata": {
    "base_environment": "",
    "client": "1"
   },
   "language": "python",
   "notebookMetadata": {
    "mostRecentlyExecutedCommandWithImplicitDF": {
     "commandId": 1831526314726663,
     "dataframes": [
      "_sqldf"
     ]
    },
    "pythonIndentUnit": 2
   },
   "notebookName": "TrustPulse360Hackathon",
   "widgets": {}
  },
  "language_info": {
   "name": "python"
  }
 },
 "nbformat": 4,
 "nbformat_minor": 0
}